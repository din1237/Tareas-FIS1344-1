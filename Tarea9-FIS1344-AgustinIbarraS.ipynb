{
 "cells": [
  {
   "cell_type": "markdown",
   "id": "4b325dd4",
   "metadata": {},
   "source": [
    "## Tarea 9: Agustin Ibarra S."
   ]
  },
  {
   "cell_type": "code",
   "execution_count": 38,
   "id": "a39b9614",
   "metadata": {},
   "outputs": [],
   "source": [
    "import numpy as np\n",
    "import matplotlib.pyplot as plt"
   ]
  },
  {
   "cell_type": "markdown",
   "id": "e086a0ae",
   "metadata": {},
   "source": [
    "Ejercicio 4.4.22 del libro de Burden de análisis numérico.\n",
    "\n",
    "La ecuación\n",
    "\n",
    "$$\n",
    "\\int_0^x dt\\,\\frac{1}{\\sqrt{2\\pi}}e^{-t^2/2} = 0.45\\,,\n",
    "$$\n",
    "\n",
    "se puede resolver para $x$ usando el método de Newton. Para lograrlo es necesario evaluar la función\n",
    "\n",
    "$$\n",
    "f(p) = \\int_0^p dt\\,\\frac{1}{\\sqrt{2\\pi}}e^{-t^2/2} - 0.45\\,.\n",
    "$$\n",
    "\n",
    "Use el método compuesto del trapecio para evaluar esta función y luego use el método de Newton para encontrar $x$ con una precisión de $10^{-5}$."
   ]
  },
  {
   "cell_type": "markdown",
   "id": "0c0f3f7b",
   "metadata": {},
   "source": [
    "-------------------------------------------------------------------------------------------------------------------------------"
   ]
  },
  {
   "cell_type": "markdown",
   "id": "cbb2abb0",
   "metadata": {},
   "source": [
    "Para poder encontrar el valor de x necesitamos convertir este problema a un simple problema de encontrar el 0 de alguna función. Esto nos dice que nuestra ecuación quedara como;\n",
    "\n",
    "$$ \n",
    "\\int_0^x dt\\,\\frac{1}{\\sqrt{2\\pi}}e^{-x^2/2} - 0.45\\, = 0 \n",
    "$$\n",
    "\n",
    "Entonces simplemente necesitamos usar solo dos funciones. Primero usaremos la del trapecio, que nos dará el valor de la integral para el valor de x y la de Newton para encontrar este x para qué sé dé 0. Entonces ahora volvemos a escribir la función del método del trapecio y el método de newton."
   ]
  },
  {
   "cell_type": "code",
   "execution_count": 56,
   "id": "b7b421c1",
   "metadata": {},
   "outputs": [],
   "source": [
    "def trapecio(f, a, b, n):\n",
    "    '''\n",
    "    Función que calcular la integral de una función con el método\n",
    "    del trapecio.\n",
    "\n",
    "    f: Función\n",
    "    a: Limite inferior\n",
    "    b: Limite superior\n",
    "    n: Los intervalos que se usaran\n",
    "    \n",
    "    '''\n",
    "    h = (b - a)/n\n",
    "    fx = f(np.linspace(a + h, b - h, n - 1, endpoint=True))\n",
    "    return (h/2)*(f(a) + 2*sum(fx) + f(b))\n",
    "\n",
    "def newton(f, df, po, epsilon, N=1000000):\n",
    "    '''\n",
    "    Función que permite calcular el cero de una función con el\n",
    "    método de Newton.\n",
    "\n",
    "    f: Función\n",
    "    df: Derivada de la función\n",
    "    po: Punto inicial\n",
    "    epsilon: Error esperado\n",
    "    \n",
    "    '''\n",
    "    \n",
    "    for i in range(N):\n",
    "        p = po - f(po)/df(po)\n",
    "        if abs(p - po)/abs(p) < epsilon:\n",
    "            return p, i+1\n",
    "        po = p\n",
    "    \n",
    "    raise MaxIterations(\"No se encontró el cero luego de\", N, \"iteraciones.\")"
   ]
  },
  {
   "cell_type": "markdown",
   "id": "231040cc",
   "metadata": {},
   "source": [
    "Ahora escribimos cada función. Veamos que para el método de newton necesitamos la derivada, que esta simplemente será lo que hay dentro de la integral (Por obvias razones) y la función, será la integral, con el método del trapecio, de esta \"derivada\" desde 0 a un punto $x$, que es el que buscaremos."
   ]
  },
  {
   "cell_type": "code",
   "execution_count": 42,
   "id": "59061d26",
   "metadata": {},
   "outputs": [],
   "source": [
    "def funcion(x):\n",
    "    return trapecio(dfuncion, 0, x, 10) - 0.45\n",
    "\n",
    "def dfuncion(x):\n",
    "    return ((2*np.pi)**(-1/2))*np.exp(-(x**2)/2)"
   ]
  },
  {
   "cell_type": "markdown",
   "id": "91812f8f",
   "metadata": {},
   "source": [
    "Ahora que tenemos las funciones, utilicemos las funciones de newton para encontrar el $x$ y el método del trapecio para calcular la integral y comprobar si efectivamente da el valor que buscamos, $0.45$."
   ]
  },
  {
   "cell_type": "code",
   "execution_count": 30,
   "id": "83f2ac7a",
   "metadata": {},
   "outputs": [
    {
     "data": {
      "text/plain": [
       "(1.6485764167303363, 6)"
      ]
     },
     "execution_count": 30,
     "metadata": {},
     "output_type": "execute_result"
    }
   ],
   "source": [
    "newton(funcion, dfuncion, 0, 10**(-5))"
   ]
  },
  {
   "cell_type": "code",
   "execution_count": 55,
   "id": "c307c0dc",
   "metadata": {},
   "outputs": [
    {
     "data": {
      "text/plain": [
       "0.4499999999904595"
      ]
     },
     "execution_count": 55,
     "metadata": {},
     "output_type": "execute_result"
    }
   ],
   "source": [
    "trapecio(dfuncion, 0, 1.6485764167303363, 10)"
   ]
  },
  {
   "cell_type": "markdown",
   "id": "637800b6",
   "metadata": {},
   "source": [
    "Como se puede ver el valor numérico será $x =1.6485764167303363$, dándonos como verdadera la ecuación, con un error de $10^{-5}$.\n",
    "\n",
    "$$\n",
    "\\int_0^{x} dt\\,\\frac{1}{\\sqrt{2\\pi}}e^{-t^2/2} = 0.45\\,,\n",
    "$$\n"
   ]
  },
  {
   "cell_type": "markdown",
   "id": "3709704c",
   "metadata": {},
   "source": [
    "# Calificación: 7.0"
   ]
  },
  {
   "cell_type": "markdown",
   "id": "445d96ae",
   "metadata": {},
   "source": []
  }
 ],
 "metadata": {
  "kernelspec": {
   "display_name": "Python 3 (ipykernel)",
   "language": "python",
   "name": "python3"
  },
  "language_info": {
   "codemirror_mode": {
    "name": "ipython",
    "version": 3
   },
   "file_extension": ".py",
   "mimetype": "text/x-python",
   "name": "python",
   "nbconvert_exporter": "python",
   "pygments_lexer": "ipython3",
   "version": "3.9.7"
  }
 },
 "nbformat": 4,
 "nbformat_minor": 5
}
