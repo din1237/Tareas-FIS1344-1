{
 "cells": [
  {
   "cell_type": "markdown",
   "id": "2bcb0dfd",
   "metadata": {},
   "source": [
    "## Tarea 3: Agustin Ibarra S."
   ]
  },
  {
   "cell_type": "markdown",
   "id": "d8e46b74",
   "metadata": {},
   "source": [
    "Ejercicio sacado de \"Basic Probability Theory\", R. B. Ash, Dover, 1970.\n",
    "\n",
    "De las 100 personas de una aldea, 50 siempre dicen la verdad, 30 siempre mienten y 20 siempre se niegan a responder. Se toma una muestra de 30 personas sin reemplazo. Encuentre la probabilidad de que esta muestra contenga 10 personas de cada categoría.\n",
    "\n",
    "Para resolver este ejercicio es necesario hacer una simulación estilo Monte Carlo ya que el número de elementos en el espacio de resultados es demasiadoo grande. Estime el error cometido al hacer el cálculo de esta manera y obtenga un error razonable."
   ]
  },
  {
   "cell_type": "markdown",
   "id": "fdca8a78",
   "metadata": {},
   "source": [
    "-------------------------------------------------------------------------------------------------------------------------------"
   ]
  },
  {
   "cell_type": "markdown",
   "id": "91ffca04",
   "metadata": {},
   "source": [
    "## Desarrollo"
   ]
  },
  {
   "cell_type": "markdown",
   "id": "20c22dfd",
   "metadata": {},
   "source": [
    "Primero que todo realizamos tres funciones, cada una tendrá la misión de poder calcular la probabilidad a la fuerza. La primera función llamada \"prob\" me calculará la probabilidad de forma bruta, o sea el número de eventos favorables, dividido el espacio. La segunda función sirve para poder crear nuestra población, o sea creamos una lista donde estarán los 50 que dicen la verdad, los 30 que mienten y 20 que se niegan. Luego la última función nos dará el evento favorable de la muestra de 30, para así después poder calcular la probabilidad."
   ]
  },
  {
   "cell_type": "code",
   "execution_count": 7,
   "id": "88f74774",
   "metadata": {},
   "outputs": [],
   "source": [
    "import random\n",
    "\n",
    "def prob(evento, espacio):\n",
    "    ''' \n",
    "    Funcion que calcula la probabilidad, se debe entregar\n",
    "    evento y espacio.\n",
    "    \n",
    "    Entregar eventos favorables y espacio.\n",
    "    '''\n",
    "    return (len(evento & espacio)/len(espacio))\n",
    "#Simplemente hacemos return al calculo que queremos realizar.\n",
    "\n",
    "def unir(dicho, personas):\n",
    "    '''\n",
    "    Funcion que permite formar el espacio\n",
    "    Entregar lista de elementos.\n",
    "    \n",
    "    Entregar dicho y cantidad de personas.\n",
    "    '''\n",
    "    return {dicho + str(n + 1) for n in range(personas)}\n",
    "#Hacemos una union de los datos que tenemos, osea tener un nombre y un numero para nuestro valor.\n",
    "\n",
    "def prob_CadaUno(evento):\n",
    "    '''\n",
    "    Funcion que regresara cada uno de las opciones \n",
    "    hasta que salga el evento de que de la muestra de 30\n",
    "    salgan 10 de cada uno de las opciones.\n",
    "    \n",
    "    Entregar: Evento.\n",
    "    '''\n",
    "    s = [i[0] for i in evento]\n",
    "    return s.count('V') == 10 and s.count('M') == 10 and s.count('N') == 10\n",
    "#Aca realizamos una serie de eventos hasta que tengamos el caso que buscamos. "
   ]
  },
  {
   "cell_type": "markdown",
   "id": "ccff0c8c",
   "metadata": {},
   "source": [
    "Formamos nuestro espacio usando la función unir. "
   ]
  },
  {
   "cell_type": "code",
   "execution_count": 8,
   "id": "3946b2ee",
   "metadata": {},
   "outputs": [],
   "source": [
    "Aldea = list(unir('V', 50) | unir('M', 30) | unir('N', 20))"
   ]
  },
  {
   "cell_type": "markdown",
   "id": "5483a5aa",
   "metadata": {},
   "source": [
    "Ahora creamos nuestra muestra donde crearemos la muestra con números al azar, para después con la función Prob_CadaUno, ver en cada uno en que momento se presenta el evento que esperamos."
   ]
  },
  {
   "cell_type": "code",
   "execution_count": 9,
   "id": "03dcd7ec",
   "metadata": {},
   "outputs": [
    {
     "data": {
      "text/plain": [
       "0.00331"
      ]
     },
     "execution_count": 9,
     "metadata": {},
     "output_type": "execute_result"
    }
   ],
   "source": [
    "muestra = {tuple(random.choices(Aldea, k = 30)) for i in range(100000)}\n",
    "\n",
    "#Creamos nuestra muestra realizando una tupla.\n",
    "\n",
    "todos = {e for e in muestra if prob_CadaUno(e)}\n",
    "\n",
    "#Aca creamos el evento, para luego poder calcularlo con la funcion \"prob\"\n",
    "\n",
    "prob(todos, muestra)"
   ]
  },
  {
   "cell_type": "markdown",
   "id": "3df1d3fa",
   "metadata": {},
   "source": [
    "# Calificación: 6.0"
   ]
  },
  {
   "cell_type": "markdown",
   "id": "09441476",
   "metadata": {},
   "source": [
    "Faltó calcular el error de la simulación."
   ]
  },
  {
   "cell_type": "markdown",
   "id": "496614b6",
   "metadata": {},
   "source": []
  }
 ],
 "metadata": {
  "kernelspec": {
   "display_name": "Python 3",
   "language": "python",
   "name": "python3"
  },
  "language_info": {
   "codemirror_mode": {
    "name": "ipython",
    "version": 3
   },
   "file_extension": ".py",
   "mimetype": "text/x-python",
   "name": "python",
   "nbconvert_exporter": "python",
   "pygments_lexer": "ipython3",
   "version": "3.10.6 (main, Nov  2 2022, 18:53:38) [GCC 11.3.0]"
  },
  "vscode": {
   "interpreter": {
    "hash": "916dbcbb3f70747c44a77c7bcd40155683ae19c65e1c03b4aa3499c5328201f1"
   }
  }
 },
 "nbformat": 4,
 "nbformat_minor": 5
}
