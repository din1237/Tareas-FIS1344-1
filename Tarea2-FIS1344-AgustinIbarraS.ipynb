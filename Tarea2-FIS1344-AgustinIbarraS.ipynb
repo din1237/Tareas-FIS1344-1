{
 "cells": [
  {
   "cell_type": "markdown",
   "id": "9c701c59",
   "metadata": {},
   "source": [
    "## Tarea n°2: Agustín Ibarra S."
   ]
  },
  {
   "cell_type": "markdown",
   "id": "5857d4a7",
   "metadata": {},
   "source": [
    "Escriba un código que tome un arreglo lleno de ceros, producido con np.zeros((3,2)) y usando ciclos for lo llena para obtener"
   ]
  },
  {
   "cell_type": "code",
   "execution_count": null,
   "id": "93048ff0",
   "metadata": {},
   "outputs": [],
   "source": [
    "array([[1., 2.],\n",
    "       [3., 4.],\n",
    "       [5., 6.]])"
   ]
  },
  {
   "cell_type": "markdown",
   "id": "e95456e6",
   "metadata": {},
   "source": [
    "## Desarrollo"
   ]
  },
  {
   "cell_type": "code",
   "execution_count": 2,
   "id": "ed4398a6",
   "metadata": {},
   "outputs": [
    {
     "data": {
      "text/plain": [
       "array([[1., 2.],\n",
       "       [3., 4.],\n",
       "       [5., 6.]])"
      ]
     },
     "execution_count": 2,
     "metadata": {},
     "output_type": "execute_result"
    }
   ],
   "source": [
    "import numpy as np\n",
    "matriz = np.zeros((3,2)) #Matriz 3x2 inicial de solo ceros.\n",
    "contador = 0 #Comenzamos con un contador de 0 para poder ir moviendonos entre cada filauytrewsqa.\n",
    "for k in range(1,6,2): #Comenzamos con un ciclo que va de 1 a 5 saltando de 2 en 2.\n",
    "    matriz[contador, 0] = k \n",
    "    matriz[contador, 1] = k + 1 #En este paso vamos cambiando los elementos de la matriz de ceros por los valores de k\n",
    "    contador += 1 #Como se observa los contadores sirven para ir cambiando entre fila para \"rellenar\" los datos. \n",
    "matriz"
   ]
  },
  {
   "cell_type": "markdown",
   "id": "057b7cd3",
   "metadata": {},
   "source": [
    "Lo que se realizó fue partir de una matriz 3x2 de solo ceros. Con esto se colocó un contador y un ciclo for. Lo que hace este ciclo es tomar los elementos de la matriz y remplazarlos por k o k+1, siendo k un valor que va desde 1 a 5. Así, con el contador volviendo, representando las filas, rellenar cada elemento con su respectivo valor."
   ]
  },
  {
   "cell_type": "markdown",
   "id": "29e7d912",
   "metadata": {},
   "source": [
    "# Calificación: 7.0"
   ]
  },
  {
   "cell_type": "markdown",
   "id": "0a5d6813",
   "metadata": {},
   "source": []
  }
 ],
 "metadata": {
  "kernelspec": {
   "display_name": "Python 3.8.5 ('base')",
   "language": "python",
   "name": "python3"
  },
  "language_info": {
   "codemirror_mode": {
    "name": "ipython",
    "version": 3
   },
   "file_extension": ".py",
   "mimetype": "text/x-python",
   "name": "python",
   "nbconvert_exporter": "python",
   "pygments_lexer": "ipython3",
   "version": "3.8.5"
  },
  "vscode": {
   "interpreter": {
    "hash": "717166dca5ba27c291ef89c0d672051d570f7fc5e24fe5207b8bf9e4bb58e673"
   }
  }
 },
 "nbformat": 4,
 "nbformat_minor": 5
}
