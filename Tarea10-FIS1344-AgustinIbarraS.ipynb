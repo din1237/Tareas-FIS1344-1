{
 "cells": [
  {
   "cell_type": "markdown",
   "metadata": {},
   "source": [
    "## Tarea 10 FIS-1344: AgustinIbarraS"
   ]
  },
  {
   "cell_type": "code",
   "execution_count": 27,
   "metadata": {},
   "outputs": [],
   "source": [
    "import numpy as np\n",
    "import matplotlib.pyplot as plt\n",
    "from scipy import integrate "
   ]
  },
  {
   "cell_type": "markdown",
   "metadata": {},
   "source": [
    "Resuelva el siguiente problema de valor inicial usando el método de Euler y los métodos de Taylor de orden 2 y 3\n",
    "\n",
    "$$\n",
    "y'(t) = \\frac{\\cos(t)}{\\sin(y(t))}\\,,\\quad y(0) = 1\\,,\\quad 0 \\leq t \\leq 1\n",
    "$$\n",
    "\n",
    "Resuelva la ecuación analíticamente y grafique en función de $h$ el error cometido con los tres métodos para $t = 1$. ¿Es compatible con lo esperado? ¿Por qué?\n",
    "\n"
   ]
  },
  {
   "cell_type": "markdown",
   "metadata": {},
   "source": [
    "-------------------------------------------------------------------------------------------------------------------------------"
   ]
  },
  {
   "cell_type": "markdown",
   "metadata": {},
   "source": [
    "Primero definimos tenemos que la primera derivada va a ser igual a la función que nos dan. Con estos métodos necesitaremos la segunda y tercera derivada, por lo que las calculamos. Por último comparararemos con la solución exacta de la ecuación diferencial."
   ]
  },
  {
   "cell_type": "markdown",
   "metadata": {},
   "source": [
    "Exacta: $ y(t) = \\cos^{-1}(\\cos(1)-\\sin(t)) $\n",
    "\n",
    "Primera derivada: $ y'(t) = \\frac{\\cos(t)}{\\sin(y(t))}\\ $\n",
    "\n",
    "Segunda derivada: $ y''(t) = \\cos^{-1}(t)(\\sin(t) + \\cos(t)y'(t)\\tan^{-1}(y)) $\n",
    "\n",
    "Tercera derivada: $ y'''(t) = \\sin^{-1}(y)(2\\sin(t)y'(t)\\tan^{-1}(y)-\\cos(t)*y''(t)\\tan^{-1}(y)+1)+\\cos(t)y'(t)^{2}(\\tan^{-2}(y)+\\sin^{-2}(y))) $"
   ]
  },
  {
   "cell_type": "code",
   "execution_count": 28,
   "metadata": {},
   "outputs": [],
   "source": [
    "def exacta(t):\n",
    "    return np.arccos(np.cos(1)-np.sin(t))\n",
    "\n",
    "def funcion(t, y):\n",
    "    return (np.cos(t)/np.sin(y))\n",
    "\n",
    "def dfuncion(t, y):\n",
    "    return (np.sin(t) + np.cos(t)*funcion(t,y)*np.tan(y)**(-1))*np.cos(t)**(-1)\n",
    "\n",
    "def d2funcion(t,y): \n",
    "    return np.sin(y)**(-1)*(2*np.sin(t)*funcion(t, y)*np.tan(y)**(-1)-np.cos(t)*(dfuncion(t, y)*np.tan(y)**(-1) + 1)+np.cos(t)*funcion(t,y)**(2)*(np.tan(y)**(-2)+np.sin(y)**(-2)))"
   ]
  },
  {
   "cell_type": "markdown",
   "metadata": {},
   "source": [
    "Ahora definimos las funciones con las cuales haremos la ecuación diferencial, primero partimos con la de Euler vista en clases:"
   ]
  },
  {
   "cell_type": "code",
   "execution_count": 29,
   "metadata": {},
   "outputs": [],
   "source": [
    "def euler(f, a, b, yo, N):\n",
    "    \n",
    "    h = (b-a)/N\n",
    "    t = a\n",
    "    w = yo\n",
    "    ts = np.zeros(N+1)\n",
    "    sol = np.zeros(N+1)\n",
    "    \n",
    "    for i in range(N):\n",
    "        ts[i] = t\n",
    "        sol[i] = w\n",
    "        w = w + h*f(t, w)\n",
    "        t = t + h\n",
    "        \n",
    "    ts[N] = t\n",
    "    sol[N] = w\n",
    "    \n",
    "    return ts, sol"
   ]
  },
  {
   "cell_type": "markdown",
   "metadata": {},
   "source": [
    "Ahora definimos la función con el método de Taylor, esto con orden 2 y 3."
   ]
  },
  {
   "cell_type": "code",
   "execution_count": 30,
   "metadata": {},
   "outputs": [],
   "source": [
    "def taylor2(f, df, a, b, yo, N):\n",
    "    \n",
    "    h = (b-a)/N\n",
    "    t = a\n",
    "    w = yo\n",
    "    ts = np.zeros(N+1)\n",
    "    sol = np.zeros(N+1)\n",
    "    \n",
    "    for i in range(N):\n",
    "        ts[i] = t\n",
    "        sol[i] = w\n",
    "        w = w + h*f(t, w) + h*h*df(t, w)/2 #Condicion para Taylor 2\n",
    "        t = t + h\n",
    "        \n",
    "    ts[N] = t\n",
    "    sol[N] = w\n",
    "    \n",
    "    return ts, sol"
   ]
  },
  {
   "cell_type": "code",
   "execution_count": 31,
   "metadata": {},
   "outputs": [],
   "source": [
    "def taylor3(f, df, d2f, a, b, yo, N):\n",
    "    \n",
    "    h = (b-a)/N\n",
    "    t = a\n",
    "    w = yo\n",
    "    ts = np.zeros(N+1)\n",
    "    sol = np.zeros(N+1)\n",
    "    \n",
    "    for i in range(N):\n",
    "        ts[i] = t\n",
    "        sol[i] = w\n",
    "        w = w + h*f(t, w) + h*h*df(t, w)/2 + h*h*h*(d2f(t, w)/6) #Condicion para Taylor 3\n",
    "        t = t + h\n",
    "        \n",
    "    ts[N] = t\n",
    "    sol[N] = w\n",
    "    \n",
    "    return ts, sol"
   ]
  },
  {
   "cell_type": "code",
   "execution_count": 32,
   "metadata": {},
   "outputs": [
    {
     "data": {
      "text/plain": [
       "<matplotlib.legend.Legend at 0x1973ba9eaf0>"
      ]
     },
     "execution_count": 32,
     "metadata": {},
     "output_type": "execute_result"
    },
    {
     "data": {
      "image/png": "[encoded data removed]",
      "text/plain": [
       "<Figure size 432x288 with 1 Axes>"
      ]
     },
     "metadata": {
      "needs_background": "light"
     },
     "output_type": "display_data"
    }
   ],
   "source": [
    "ts = np.linspace(0, 1, 100)\n",
    "plt.plot(ts, exacta(ts), label='Exacta')\n",
    "plt.plot(*euler(funcion, 0, 1, 1, 10), label='Aproximación de Euler')\n",
    "plt.plot(*taylor2(funcion, dfuncion, 0, 1, 1, 10), label='Aproximación de Taylor orden 2')\n",
    "plt.plot(*taylor3(funcion, dfuncion, d2funcion, 0, 1, 1, 10), label='Aproximación de Taylor orden 3')\n",
    "plt.legend()"
   ]
  },
  {
   "cell_type": "markdown",
   "metadata": {},
   "source": [
    "Como se puede ver las soluciones son muy parecidas a la exacta, pero aun así poseen un error, de hecho la de Euler le falta para llegar y a las de Taylor se pasan de la solución exacta."
   ]
  },
  {
   "cell_type": "code",
   "execution_count": 33,
   "metadata": {},
   "outputs": [
    {
     "data": {
      "text/plain": [
       "<matplotlib.legend.Legend at 0x1973ba6ac40>"
      ]
     },
     "execution_count": 33,
     "metadata": {},
     "output_type": "execute_result"
    },
    {
     "data": {
      "image/png": "[encoded data removed]",
      "text/plain": [
       "<Figure size 432x288 with 1 Axes>"
      ]
     },
     "metadata": {
      "needs_background": "light"
     },
     "output_type": "display_data"
    }
   ],
   "source": [
    "N = 10\n",
    "ts, solucion_euler = euler(funcion, 0, 1, 1, N)\n",
    "ts, solucion_taylor2 = taylor2(funcion, dfuncion, 0, 1, 1, N)\n",
    "ts, solucion_taylor3 = taylor3(funcion, dfuncion, d2funcion, 0, 1, 1, N)\n",
    "exacta = exacta(ts)\n",
    "plt.scatter(ts, solucion_euler - exacta, label='Euler')\n",
    "plt.scatter(ts, solucion_taylor2 - exacta, label='Taylor 2')\n",
    "plt.scatter(ts, solucion_taylor3 - exacta, label='Taylor 3')\n",
    "plt.legend()"
   ]
  },
  {
   "cell_type": "markdown",
   "metadata": {},
   "source": [
    "Viendo el error en t=1, se puede ver que para Euler este es pequeño comparado con los métodos de Taylor 2 y 3, donde el error entre los dos es muy parecido. Para mí, esto no es compatible con lo que esperaba, esto dada que al menos, en la curva, se ve como el error en Taylor crece como exponencialmente, mientras que en Euler es casi lineal, esperaba que esto fuese al revés. Al final en Taylor estamos colocando más información para que sea más exacto, me sorprende que esté tan alejado a comparación de Euler."
   ]
  },
  {
   "cell_type": "markdown",
   "metadata": {},
   "source": [
    "# Calificacion: 6.6"
   ]
  },
  {
   "cell_type": "markdown",
   "metadata": {},
   "source": [
    "El enunciado pide el error en funcion de $h$, no en funcion de $t$."
   ]
  }
 ],
 "metadata": {
  "kernelspec": {
   "display_name": "Python 3",
   "language": "python",
   "name": "python3"
  },
  "language_info": {
   "codemirror_mode": {
    "name": "ipython",
    "version": 3
   },
   "file_extension": ".py",
   "mimetype": "text/x-python",
   "name": "python",
   "nbconvert_exporter": "python",
   "pygments_lexer": "ipython3",
   "version": "3.8.3"
  },
  "toc": {
   "base_numbering": 1,
   "nav_menu": {},
   "number_sections": true,
   "sideBar": true,
   "skip_h1_title": false,
   "title_cell": "Table of Contents",
   "title_sidebar": "Contents",
   "toc_cell": false,
   "toc_position": {},
   "toc_section_display": true,
   "toc_window_display": false
  }
 },
 "nbformat": 4,
 "nbformat_minor": 5
}
