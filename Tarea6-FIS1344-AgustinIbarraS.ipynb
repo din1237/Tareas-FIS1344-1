{
 "cells": [
  {
   "cell_type": "markdown",
   "id": "b1af2bd1",
   "metadata": {},
   "source": [
    "# Tarea 6: Agustin Ibarra S"
   ]
  },
  {
   "cell_type": "markdown",
   "id": "3ed38b52",
   "metadata": {},
   "source": [
    "Encuentre una aproximación numérica para  (31)1/3  usando el método de bisección. Grafique el tiempo requerido para ese cálculo en función del error relativo. Escoja errores relativos muy pequeños para que el computador tarde un tiempo moderado en el cálculo."
   ]
  },
  {
   "cell_type": "markdown",
   "id": "8695c182",
   "metadata": {},
   "source": [
    "-------------------------------------------------------------------------------------------------------------------------------"
   ]
  },
  {
   "cell_type": "markdown",
   "id": "adab5f83",
   "metadata": {},
   "source": [
    "## Función"
   ]
  },
  {
   "cell_type": "code",
   "execution_count": 19,
   "id": "6dfc845d",
   "metadata": {},
   "outputs": [],
   "source": [
    "import numpy as np\n",
    "import matplotlib.pyplot as plt"
   ]
  },
  {
   "cell_type": "markdown",
   "id": "a863b413",
   "metadata": {},
   "source": [
    "Primero que todo definiremos una función, tal que uno de los ceros de esta sea el valor que buscamos, para así poder aproximarnos al valor numérico. Por lo que colocamos $ f(x)=-x^3+31 $"
   ]
  },
  {
   "cell_type": "code",
   "execution_count": 95,
   "id": "f26a7451",
   "metadata": {},
   "outputs": [],
   "source": [
    "def fun(x):\n",
    "    return -x**3  + 31"
   ]
  },
  {
   "cell_type": "code",
   "execution_count": 136,
   "id": "6cd741cf",
   "metadata": {},
   "outputs": [
    {
     "data": {
      "text/plain": [
       "Text(0.5, 1.0, 'Funcion f(x)')"
      ]
     },
     "execution_count": 136,
     "metadata": {},
     "output_type": "execute_result"
    },
    {
     "data": {
      "image/png": "[encoded data removed]",
      "text/plain": [
       "<Figure size 432x288 with 1 Axes>"
      ]
     },
     "metadata": {
      "needs_background": "light"
     },
     "output_type": "display_data"
    }
   ],
   "source": [
    "x = np.linspace(-8, 8, 1000)\n",
    "plt.plot(x, fun(x))\n",
    "plt.xlabel('x')\n",
    "plt.ylabel('f(x)')\n",
    "plt.title('Funcion f(x)')"
   ]
  },
  {
   "cell_type": "markdown",
   "id": "69f225cb",
   "metadata": {},
   "source": [
    "Como se ve el gráfico, si se hace un poco de álgebra para buscar los 0 de la función, tendremos que en el rango de 0 a 7, la función cortara al eje x en la raíz cúbica de 31. Para obtener el valor de esta, usaremos el método de bisección, que nos entregara un valor numérico, dependiendo del error que le demos. Se irá variando este último valor, para así conocer como varía el número."
   ]
  },
  {
   "cell_type": "markdown",
   "id": "07d9aac0",
   "metadata": {},
   "source": [
    "-------------------------------------------------------------------------------------------------------------------------------"
   ]
  },
  {
   "cell_type": "code",
   "execution_count": 125,
   "id": "7690b964",
   "metadata": {},
   "outputs": [],
   "source": [
    "def biseccion(f, a, b, epsilon, N=1000000):\n",
    "    '''\n",
    "    Funcion biseccion que tomara una funcion, dos valores del dominio [a,b]\n",
    "    el error esperado en la medidicion y el numero de mediciones que se hara.\n",
    "    \n",
    "    biseccion(funcion, a, b, error, N)\n",
    "    \n",
    "    Condiciones importantes:\n",
    "    \n",
    "    f(a) < 0\n",
    "    f(b) > 0\n",
    "    \n",
    "    -------------------------------------------------------------------------\n",
    "    Esta funcion tiene con objetivo encontrar la raiz de la funcion en rango \n",
    "    [a,b].\n",
    "    '''\n",
    "    for i in range(N):\n",
    "        p = a + (b - a)/2 #Condicion de la biseccion \n",
    "        if abs(f(p)) < epsilon: #Aca aplicamos el error que esperamos. \n",
    "            return p\n",
    "       \n",
    "        if f(p)*f(a) > 0: #Esta condicion es la que ayuda a seguir con la biseccion. \n",
    "                a = p\n",
    "        else:\n",
    "                b = p \n",
    "    if resultado == \"F\":\n",
    "        print(\"No se encontró el cero después de\", N, \"iteraciones.\")\n",
    "        return \"F\" #Regresamos el ultimo valor que adquirimos. "
   ]
  },
  {
   "cell_type": "code",
   "execution_count": 112,
   "id": "2f9581b8",
   "metadata": {},
   "outputs": [
    {
     "data": {
      "text/plain": [
       "3.14453125"
      ]
     },
     "execution_count": 112,
     "metadata": {},
     "output_type": "execute_result"
    }
   ],
   "source": [
    "biseccion(fun, 0, 7, 0.1) #Con un error del 0.1."
   ]
  },
  {
   "cell_type": "code",
   "execution_count": 103,
   "id": "35ddbc79",
   "metadata": {},
   "outputs": [
    {
     "data": {
      "text/plain": [
       "3.14111328125"
      ]
     },
     "execution_count": 103,
     "metadata": {},
     "output_type": "execute_result"
    }
   ],
   "source": [
    "biseccion(fun, 0, 7, 0.01) #Error de 0.01."
   ]
  },
  {
   "cell_type": "code",
   "execution_count": 104,
   "id": "3139f490",
   "metadata": {},
   "outputs": [
    {
     "data": {
      "text/plain": [
       "3.1413803100585938"
      ]
     },
     "execution_count": 104,
     "metadata": {},
     "output_type": "execute_result"
    }
   ],
   "source": [
    "biseccion(fun, 0, 7, 0.001) #Error 0.001."
   ]
  },
  {
   "cell_type": "code",
   "execution_count": 105,
   "id": "b025e810",
   "metadata": {},
   "outputs": [
    {
     "data": {
      "text/plain": [
       "3.1413803100585938"
      ]
     },
     "execution_count": 105,
     "metadata": {},
     "output_type": "execute_result"
    }
   ],
   "source": [
    "biseccion(fun, 0, 7, 0.0001) #Error 0.0001."
   ]
  },
  {
   "cell_type": "code",
   "execution_count": 124,
   "id": "55e25fc9",
   "metadata": {},
   "outputs": [
    {
     "data": {
      "text/plain": [
       "3.141380652391393"
      ]
     },
     "execution_count": 124,
     "metadata": {},
     "output_type": "execute_result"
    }
   ],
   "source": [
    "biseccion(fun, 0, 7, 10**-13) #Error extremadamente pequeño. "
   ]
  },
  {
   "cell_type": "markdown",
   "id": "8d19fbed",
   "metadata": {},
   "source": [
    "De estos resultados podemos concluir que el valor del número irracional $\\sqrt[3]{31}$ con un error suficientemente pequeño es de aproximadamente $ 3.141380652391393 $."
   ]
  },
  {
   "cell_type": "markdown",
   "id": "ed16f25c",
   "metadata": {},
   "source": [
    "-------------------------------------------------------------------------------------------------------------------------------"
   ]
  },
  {
   "cell_type": "markdown",
   "id": "a4fa4802",
   "metadata": {},
   "source": [
    "## Grafico"
   ]
  },
  {
   "cell_type": "markdown",
   "id": "62e7f582",
   "metadata": {},
   "source": [
    "Ahora con nuestro resultado numérico, vimos que para cada error teníamos un valor distinto, aun así mientras el error es más pequeño este proceso se vuelve cada vez más costoso para el computador, teniendo un tiempo de ejecución mayor que para el error más grande. Veamos como cambia el tiempo de ejecución respecto a nuestro error relativo impuesto por los epsilon. Para realizar este código lo que realizaremos es fijar varios epsilon, para así ir calculando el tiempo para 1000 intentos de calcular el tiempo. Con este promedio podemos conocer un estimado de cuanto se demora el computador en realizar el proceso (Lo hice de esta manera porque el computador se demoraba muy poco con un solo intento, por lo que calcule varias veces para obtener un valor significativo en la muestra)."
   ]
  },
  {
   "cell_type": "code",
   "execution_count": 134,
   "id": "39332949",
   "metadata": {},
   "outputs": [
    {
     "data": {
      "text/plain": [
       "Text(0.5, 1.0, 'Log(Error) v/s Log(Tiempo)')"
      ]
     },
     "execution_count": 134,
     "metadata": {},
     "output_type": "execute_result"
    },
    {
     "data": {
      "image/png": "[encoded data removed]",
      "text/plain": [
       "<Figure size 432x288 with 1 Axes>"
      ]
     },
     "metadata": {
      "needs_background": "light"
     },
     "output_type": "display_data"
    }
   ],
   "source": [
    "import time #Importamos time para el calculo del tiempo. \n",
    " \n",
    "error_t = [] #Realizamos listas para poder graficar los errores y los tiempos. \n",
    "tiempo = []\n",
    "\n",
    "for epsilon in [10**-1, 10**-2, 10**-3, 10**-4, 10**-5, 10**-6]: #Errores disminuyendo en factor de 10.\n",
    "    inicial = time.time() #Inicio del tiempo para calcular por cada vez que vuelve el ciclo.\n",
    "\n",
    "    for m in range(1000):\n",
    "        resultado = biseccion(fun, 1.5, 5, epsilon)\n",
    "     \n",
    "    tiempo.append(time.time()-inicial) #Calculo del tiempo recorrido por ciclo añadiendolo en una lista. \n",
    "    error_t.append(epsilon) #Añadir los valores de los epsilon en la lista error_t,\n",
    "    \n",
    "    \n",
    "plt.loglog(np.array(tiempo)/1000, error_t) #Dividi el valor en 1000 para tener el tiempo que seria en uno solo.\n",
    "plt.xlabel('Log(Tiempo)')\n",
    "plt.ylabel('Log(Error)')\n",
    "plt.title('Log(Error) v/s Log(Tiempo)')"
   ]
  },
  {
   "cell_type": "markdown",
   "id": "c3003c81",
   "metadata": {},
   "source": [
    "Como se puede apreciar a medida que aumentamos el error, el tiempo va aumentando progresivamente, cosa que tiene sentido, porque vamos calculando muchos más datos para obtener un resultado mucho más preciso."
   ]
  }
 ],
 "metadata": {
  "kernelspec": {
   "display_name": "Python 3 (ipykernel)",
   "language": "python",
   "name": "python3"
  },
  "language_info": {
   "codemirror_mode": {
    "name": "ipython",
    "version": 3
   },
   "file_extension": ".py",
   "mimetype": "text/x-python",
   "name": "python",
   "nbconvert_exporter": "python",
   "pygments_lexer": "ipython3",
   "version": "3.9.7"
  }
 },
 "nbformat": 4,
 "nbformat_minor": 5
}
