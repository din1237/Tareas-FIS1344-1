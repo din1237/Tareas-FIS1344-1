{
 "cells": [
  {
   "cell_type": "markdown",
   "id": "0360a1a9",
   "metadata": {},
   "source": [
    "## Tarea 3: Agustin Ibarra S."
   ]
  },
  {
   "cell_type": "markdown",
   "id": "03f81db4",
   "metadata": {},
   "source": [
    "Ejercicio 1.3.15 del libro de Burden: \n",
    "\n",
    "* ¿Cuántas multiplicaciones y sumas es necesario realizar para calcular lo siguiente?\n",
    "\n",
    "$$\n",
    "\\sum_{i=1}^n \\sum_{j = 1}^i a_i b_j\n",
    "$$\n",
    "\n",
    "* Reescriba la suma de manera que sea necesario realizar menos operaciones.\n",
    "\n",
    "* Escriba un código que realice la suma de ambas maneras para $n = 10000$ a partir de arreglos $a_i$ y $b_j$ obtenidos de forma aleatoria usando np.random.rand(10000)."
   ]
  },
  {
   "cell_type": "markdown",
   "id": "a583be43",
   "metadata": {},
   "source": [
    "-------------------------------------------------------------------------------------------------------------------------"
   ]
  },
  {
   "cell_type": "markdown",
   "id": "4a3816fd",
   "metadata": {},
   "source": [
    "## Desarrollo "
   ]
  },
  {
   "cell_type": "markdown",
   "id": "9eff9f39",
   "metadata": {},
   "source": [
    "Para poder conocer cuantas sumas y multiplicaciones hay fue expandir la serie $\\sum_{i=1}^n \\sum_{j = 1}^i a_i b_j$ con varios N y realizar las cuentas.\n",
    "\n",
    "Para n = 2\n",
    "\n",
    "-$\\sum_{i=1}^2 \\sum_{j = 1}^i a_i b_j = a_1b_1 + a_2b_1 + a_2b_2 $, Osea 3 multiplicaciones y 2 sumas.\n",
    "\n",
    "Para n = 3\n",
    "\n",
    "-$\\sum_{i=1}^3 \\sum_{j = 1}^i a_i b_j = a_1b_1 + a_2b_1 + a_2b_2 + a_3b_1 + a_3b_2 + a_3b_3 $, Teniendo 6 multiplicaciones y 5 sumas\n",
    "\n",
    "Para n = 4\n",
    "\n",
    "-$\\sum_{i=1}^3 \\sum_{j = 1}^i a_i b_j = a_1b_1 + a_2b_1 + a_2b_2 + a_3b_1 + a_3b_2 + a_3b_3 + a_4b_1 + a_4b_2 + a_4b_3 + a_4b_4 $, Obteniendo 10 multiplicaciones y 9 sumas\n",
    "\n",
    "Ya con esto se puede notar un cierto patrón, donde para el número de multiplicaciones que tendremos será de la forma:\n",
    " \n",
    "\n",
    "$$ \\frac{n(n+1)}{2} $$\n",
    " \n",
    "Mientras que para la suma será lo mismo pero menos uno.\n",
    " \n",
    "$$ \\frac{n(n+1)}{2} - 1 $$"
   ]
  },
  {
   "cell_type": "markdown",
   "id": "e21e151b",
   "metadata": {},
   "source": [
    "-------------------------------------------------------------------------------------------------------------------------"
   ]
  },
  {
   "cell_type": "markdown",
   "id": "fbbd914b",
   "metadata": {},
   "source": [
    "Para este punto la sumatoria la escribiremos distinto a como estaba anteriormente, la dejaremos de la siguiente forma.\n",
    "$$ \\sum_{i=1}^n a_i \\sum_{j = 1}^i b_j $$\n",
    "\n",
    "De esta manera, tratemos de expandirla para varios N, como lo hicimos anteriormente.\n",
    "\n",
    "Para n = 2:\n",
    "\n",
    "-$\\sum_{i=1}^2 a_i \\sum_{j = 1}^i b_j = a_1 \\sum_{j = 1}^1 b_j + a_2 \\sum_{j = 1}^2 b_j = a_1b_1 + a_2(b_1 + b_2) $, Obteniendo solo 2 multiplicaciones y dos sumas.\n",
    "\n",
    "Para n = 3:\n",
    "\n",
    "-$\\sum_{i=1}^2 a_i \\sum_{j = 1}^i b_j = a_1 \\sum_{j = 1}^1 b_j + a_2 \\sum_{j = 1}^2 b_j + a_3 \\sum_{j = 1}^3 b_j = a_1b_1 + a_2(b_1 + b_2) + a_3(b_1 + b_2 + b_3)$ Teniendo solo 3 multiplicaciones, pero 5 sumas.\n",
    "\n",
    "Para n = 4:\n",
    "\n",
    "-$\\sum_{i=1}^2 a_i \\sum_{j = 1}^i b_j = a_1 \\sum_{j = 1}^1 b_j + a_2 \\sum_{j = 1}^2 b_j + a_3 \\sum_{j = 1}^3 b_j + a_4 \\sum_{j = 1}^4 b_j = a_1b_1 + a_2(b_1 + b_2) + a_3(b_1 + b_2 + b_3) + a_4(b_1 + b_2 + b_3 + b_4)$\n",
    "\n",
    "Ya de esta última notamos que tendremos el mismo $ n $ para las multiplicaciones, reduciendo de $ \\frac{n(n+1)}{2} $ a solo $ n $ multiplicaciones, pero las sumas siguen el mismo patrón de $ \\frac{n(n+1)}{2} - 1 $ anteriormente."
   ]
  },
  {
   "cell_type": "markdown",
   "id": "e21d0fba",
   "metadata": {},
   "source": [
    "-----------------------------------------------------------------------------------------------------------------------------"
   ]
  },
  {
   "cell_type": "markdown",
   "id": "d9b26f23",
   "metadata": {},
   "source": [
    "## Código."
   ]
  },
  {
   "cell_type": "markdown",
   "id": "2440d409",
   "metadata": {},
   "source": [
    "Para este código tomo el mismo sentido de lo que se trata la sumatoria original, en sí, es tener dos ciclos, uno que tome los valores del \"i\" y otra donde pueda tomar los valores de \"j\" dependiendo de hasta donde llegue el i. Luego de tener los ciclos, multiplicaremos el elemento i-esimos de a() con el elemento j-esimo de b(), al igual que como lo hace la sumatoria original."
   ]
  },
  {
   "cell_type": "code",
   "execution_count": 1,
   "id": "4669fda1",
   "metadata": {},
   "outputs": [
    {
     "name": "stdout",
     "output_type": "stream",
     "text": [
      "12412270.580391118\n"
     ]
    }
   ],
   "source": [
    "import matplotlib.pyplot as plt\n",
    "import numpy as np\n",
    "\n",
    "n = 10000\n",
    "a = np.random.rand(n) \n",
    "b = np.random.rand(n) #Vectores creador de manera aleatoria con n dimensiones.\n",
    "sumatoria = 0 #La sumatoria comenzara desde 0.\n",
    "\n",
    "for i in range(1, n): #Primera sumatoria que ira desde un i=1 hasta el N que queremos.\n",
    "    for j in range(1, i+1): #La segunda sumatoria ira desde j=1 hasta donde el valor que vaya tomando i\n",
    "        sumatoria += a[i]*b[j] #Aca realizamos la multiplicacion de los terminos de nuestro vectores y luego los sumamos.\n",
    "print(sumatoria)"
   ]
  },
  {
   "cell_type": "markdown",
   "id": "dfdad66c",
   "metadata": {},
   "source": [
    "Este segundo código se hizo viendo la factorización que se puede tomar al realizar la expansión de la serie. Básicamente, lo que se trata de hacer este código es tomar un vector b() que tome \"i\" términos, sumarlos y el resultado multiplicarlo por el elemento i-esimo del vector a, similar al código anterior, este es el mismo principio de la sumatoria que vimos en el punto 2, con esto se puede hacer más eficientemente con un solo ciclo for."
   ]
  },
  {
   "cell_type": "code",
   "execution_count": 4,
   "id": "e066f2f2",
   "metadata": {},
   "outputs": [
    {
     "name": "stdout",
     "output_type": "stream",
     "text": [
      "12412658.25057366\n"
     ]
    }
   ],
   "source": [
    "suma = 0\n",
    "\n",
    "for i in range(len(b)+1): #Aca se usa len para conocer el numero de elementos en el vector b.\n",
    "    suma += (b[:i].sum())*(a[i-1]) #Se realiza lo que hacemos es sumar los elementos de b hasta \"i\" por la componente \"i\" de a.\n",
    "print(suma)"
   ]
  },
  {
   "cell_type": "markdown",
   "id": "fb015085",
   "metadata": {},
   "source": [
    "*Destacar que no se colocan los vectores a() y b() en el segundo código con np.random.rand(), porque al correrlo, este creara otros vectores distintos a los del primer código (Otros vectores con valores aleatorios) por lo que guardamos y colocamos solo una vez estos vectores."
   ]
  }
 ],
 "metadata": {
  "kernelspec": {
   "display_name": "Python 3 (ipykernel)",
   "language": "python",
   "name": "python3"
  },
  "language_info": {
   "codemirror_mode": {
    "name": "ipython",
    "version": 3
   },
   "file_extension": ".py",
   "mimetype": "text/x-python",
   "name": "python",
   "nbconvert_exporter": "python",
   "pygments_lexer": "ipython3",
   "version": "3.9.7"
  }
 },
 "nbformat": 4,
 "nbformat_minor": 5
}
