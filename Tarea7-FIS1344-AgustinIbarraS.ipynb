{
 "cells": [
  {
   "cell_type": "markdown",
   "id": "eb70217b",
   "metadata": {},
   "source": [
    "## Tarea 7 - FIS1344: Agustin Ibarra Sepúlveda."
   ]
  },
  {
   "cell_type": "markdown",
   "id": "13d06be0",
   "metadata": {},
   "source": [
    "Intente escribir su propia versión del método de Newton, haciéndola lo más rápida posible. Luego compare el tiempo que tarda en resolver el ejemplo de clase (el cero de la función  f(x)=x−cos(x) ) con el tiempo que tarda el método de Newton que se encuentra en scipy."
   ]
  },
  {
   "cell_type": "markdown",
   "id": "62614f73",
   "metadata": {},
   "source": [
    "-------------------------------------------------------------------------------------------------------------------------------"
   ]
  },
  {
   "cell_type": "markdown",
   "id": "dcab09b3",
   "metadata": {},
   "source": [
    "## Desarrollo "
   ]
  },
  {
   "cell_type": "markdown",
   "id": "33fb4523",
   "metadata": {},
   "source": [
    "Primero lo que haremos para desarrollar mi versión de método de newton, no escribiremos la derivada tal cual, lo que haremos es usar las aproximaciones vistas en clases para la derivada, en especial la derivada de 3 puntos. Comenzaremos escribiendo la derivada en 3 puntos con la primera función, esta nos acompañará en la función newton que realizaremos. Para la función de newton seguiremos los mismos pasos que los de la clase, pero haremos unos cambiamos, sobre todo que trataremos pedir una máxima de iteraciones. "
   ]
  },
  {
   "cell_type": "code",
   "execution_count": 97,
   "id": "d402a9b3",
   "metadata": {},
   "outputs": [],
   "source": [
    "import numpy as np\n",
    "import matplotlib.pyplot as plt\n",
    "import time"
   ]
  },
  {
   "cell_type": "code",
   "execution_count": 98,
   "id": "b06baa44",
   "metadata": {},
   "outputs": [],
   "source": [
    "def deriv3p(f, x, h):\n",
    "    return (-3*f(x) + 4*f(x + h) - f(x + 2*h))/(2*h)\n",
    "#Esta funcion nos dara la derivada en 3 puntos. \n",
    "\n",
    "def Newton(f, x0, itermax, tol, h):\n",
    "    '''\n",
    "    Función de Newton que toma una función, un punto inicial, \n",
    "    un número de iteraciones que se espera, la tolerancia y \n",
    "    el error esperado.\n",
    "\n",
    "    Esta función necesita la función hace uso de la función\n",
    "    deriv3p(f, x, h), la cual es la derivada de la función usada,\n",
    "    en 3 puntos. \n",
    "\n",
    "    Newton(f, x0, itermax, tol, h).\n",
    "    f: Función\n",
    "    x0: Punto inicial\n",
    "    itermax: Iteraciones máximas\n",
    "    tol: Tolerancia\n",
    "    h: Error estimado en la medición\n",
    "    '''\n",
    "    df = deriv3p(f, x0, h) #Derivada en 3 puntos.\n",
    "    x0 = x0 - (f(x0)/df) #Metodo de newton.\n",
    "    i = 1 #Contador para el numero de iteraciones. \n",
    "    while (i<=itermax) and abs(x0)>tol:\n",
    "        i = i+1 #Aumentamos el contador para las iteraciones que queremos. \n",
    "        df = deriv3p(f, x0, h)\n",
    "        x0 = x0 - (f(x0)/df) #Realizamos de nuevo metodo de newton \n",
    "    return x0, i             #con la nueva variable x0"
   ]
  },
  {
   "cell_type": "markdown",
   "id": "83062eb9",
   "metadata": {},
   "source": [
    "Ahora definimos la función que queremos encontrarle el 0, por lo que la definiremos sencillamente y aprovecharemos de graficar."
   ]
  },
  {
   "cell_type": "code",
   "execution_count": 88,
   "id": "40d5fa0e",
   "metadata": {},
   "outputs": [
    {
     "data": {
      "text/plain": [
       "Text(0.5, 1.0, 'Función f(x)')"
      ]
     },
     "execution_count": 88,
     "metadata": {},
     "output_type": "execute_result"
    },
    {
     "data": {
      "image/png": "[encoded data removed]",
      "text/plain": [
       "<Figure size 432x288 with 1 Axes>"
      ]
     },
     "metadata": {
      "needs_background": "light"
     },
     "output_type": "display_data"
    }
   ],
   "source": [
    "def funcion(x):\n",
    "    return x-np.cos(x)\n",
    "x = np.linspace(-8, 8, 1000)\n",
    "plt.plot(x, funcion(x))\n",
    "plt.xlabel('x')\n",
    "plt.ylabel('f(x)')\n",
    "plt.title('Función f(x)')"
   ]
  },
  {
   "cell_type": "code",
   "execution_count": 92,
   "id": "2f273649",
   "metadata": {},
   "outputs": [
    {
     "data": {
      "text/plain": [
       "(0.7390851332151607, 5)"
      ]
     },
     "execution_count": 92,
     "metadata": {},
     "output_type": "execute_result"
    }
   ],
   "source": [
    "Newton(funcion, 0.2, 4, 10**(-3), 0.001)"
   ]
  },
  {
   "cell_type": "code",
   "execution_count": 94,
   "id": "91798bf0",
   "metadata": {},
   "outputs": [
    {
     "data": {
      "text/plain": [
       "(0.7390851332151607, 5)"
      ]
     },
     "execution_count": 94,
     "metadata": {},
     "output_type": "execute_result"
    }
   ],
   "source": [
    "from scipy import optimize\n",
    "\n",
    "sol = optimize.root_scalar(funcion, x0=0.2, fprime=fprime, method='newton')\n",
    "\n",
    "sol.root, sol.iterations"
   ]
  },
  {
   "cell_type": "markdown",
   "id": "76abc54d",
   "metadata": {},
   "source": [
    "Como se puede apreciar, el código que creamos con la derivada a 3 puntos, es idéntico al resultado de scipy. Con esto, aunque sean iguales, calculemos el tiempo la cual se demora, mi función y la otra."
   ]
  },
  {
   "cell_type": "markdown",
   "id": "19c69e68",
   "metadata": {},
   "source": [
    "------------------------------------------------------------------------"
   ]
  },
  {
   "cell_type": "markdown",
   "id": "48f23f27",
   "metadata": {},
   "source": [
    "## Tiempo de ejecución"
   ]
  },
  {
   "cell_type": "markdown",
   "id": "e7cd1577",
   "metadata": {},
   "source": [
    "Para calcular el tiempo, usaremos la librería time, el cual calcularemos la diferencia del tiempo inicial y final con que termina el código. Así nos dará un resultado en segundos, que será el tiempo que se demoró la función en dar el resultado."
   ]
  },
  {
   "cell_type": "code",
   "execution_count": 93,
   "id": "44dcb176",
   "metadata": {},
   "outputs": [
    {
     "name": "stdout",
     "output_type": "stream",
     "text": [
      "0.00853276252746582\n"
     ]
    }
   ],
   "source": [
    "inicio = time.time()\n",
    "\n",
    "Newton(funcion, 0.2, 4, 10**(-3), 0.001)\n",
    "\n",
    "fin = time.time()\n",
    "print(fin-inicio) "
   ]
  },
  {
   "cell_type": "code",
   "execution_count": 96,
   "id": "140450a7",
   "metadata": {},
   "outputs": [
    {
     "name": "stdout",
     "output_type": "stream",
     "text": [
      "0.0010254383087158203\n"
     ]
    }
   ],
   "source": [
    "inicio = time.time()\n",
    "\n",
    "optimize.root_scalar(funcion, x0=0.2, fprime=fprime, method='newton')\n",
    "\n",
    "fin = time.time()\n",
    "print(fin-inicio)"
   ]
  },
  {
   "cell_type": "markdown",
   "id": "c4827320",
   "metadata": {},
   "source": [
    "Ahora, como se ve en los tiempos, mi código se demora mucho más de lo que se demora el código de scipy, aún asó, ambos son pequeños comparados al segundo. Podemos concluir entonces que el código de scipy es mucho más eficiente que el que realice."
   ]
  }
 ],
 "metadata": {
  "kernelspec": {
   "display_name": "Python 3 (ipykernel)",
   "language": "python",
   "name": "python3"
  },
  "language_info": {
   "codemirror_mode": {
    "name": "ipython",
    "version": 3
   },
   "file_extension": ".py",
   "mimetype": "text/x-python",
   "name": "python",
   "nbconvert_exporter": "python",
   "pygments_lexer": "ipython3",
   "version": "3.9.7"
  }
 },
 "nbformat": 4,
 "nbformat_minor": 5
}
