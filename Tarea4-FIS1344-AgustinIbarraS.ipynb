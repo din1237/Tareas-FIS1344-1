{
 "cells": [
  {
   "cell_type": "markdown",
   "metadata": {},
   "source": [
    "## Tarea 4: Agustin Ibarra S."
   ]
  },
  {
   "cell_type": "markdown",
   "metadata": {},
   "source": [
    "Un colega le entrega a usted archivos de texto con los resultados de una simulación (simulacion.txt). Este archivo contiene tres columnas separadas por espacios tal que cada fila es un dato y las tres columnas son tres propiedades simuladas de ese dato. \n",
    "\n",
    "Escriba una función que lea ese archivo de texto y lo vuelva a guardar en un archivo simulacion.hd5 con tres datasets correspondientes a las tres propiedades de cada dato.\n",
    "\n",
    "Como usted quiere reutilizar esta función para cualquier otro archivo con tres columnas, la función debe tomar el nombre del archivo de texto y el nombre deseado para el nuevo archivo hd5 como argumentos.\n",
    "\n",
    "El archivo simulacion.txt contiene por ejemplo lo siguiente:"
   ]
  },
  {
   "cell_type": "markdown",
   "metadata": {},
   "source": [
    "3.141590000000000094e-03 2.557680595776000416e+02 4.501400409434224770e+01 \n",
    "6.283180000000000189e-03 3.752818426478838205e+02 2.947770471609068110e+01 \n",
    "9.424770000000000716e-03 4.246697882492646841e+02 2.843524433400840579e+01 \n",
    "1.256636000000000038e-02 4.676325636948347437e+02 2.576223788106328882e+01 \n",
    "1.570795000000000177e-02 4.820912691815412359e+02 1.530261598082400276e+01 \n",
    "1.884954000000000143e-02 4.337667969674867550e+02 1.450243036000263963e+01 \n",
    "2.199113000000000109e-02 4.299064323187142804e+02 7.689521175184014012e+00 \n",
    "2.513272000000000075e-02 3.840742743415148084e+02 5.880658615460115257e+00 \n",
    "2.827431000000000041e-02 3.464876766126099596e+02 5.062040746246734280e+00 "
   ]
  },
  {
   "cell_type": "markdown",
   "metadata": {},
   "source": [
    "-----------------------------------------------------------------------------------------------------------------------------"
   ]
  },
  {
   "cell_type": "markdown",
   "metadata": {},
   "source": [
    "## Desarrollo"
   ]
  },
  {
   "cell_type": "markdown",
   "metadata": {},
   "source": [
    "Lo que se realizó fue una función que recibe dos nombres, el nombre del archivo txt que poseé datos de solo 3 columnas y el archivo nuevo hd5 que tendrá datasets igual a cada columna. Al primer archivo, en este caso simulacion.txt, se le extraerán los datos y se le colocara en una lista, que poseerá todos los datos, luego se creara el archivo hd5 y se le colocara los datos. Lo importante que estos datos serán las columnas de nuestra lista, cada datasets del archivo hd5 será la columna de la lista. Con esto veremos que se creara el archivo y se verá dentro cada dataset con su dato."
   ]
  },
  {
   "cell_type": "code",
   "execution_count": 3,
   "metadata": {},
   "outputs": [],
   "source": [
    "import os \n",
    "import numpy as np\n",
    "import h5py\n",
    "\n",
    "def hd5(nombre1 , nombre2): \n",
    "    '''\n",
    "    Funcion hd5 la cual recibe archivos .txt con solo tres \n",
    "    columnas, para pasarlas a un archivo .hd5 con tres \n",
    "    datasets.\n",
    "    \n",
    "    Esta funcion es llamada por 2 nombres:\n",
    "    \n",
    "    hd5(nombre1, nombre2):\n",
    "    \n",
    "    nombre1 = nombre de archivo.txt el cual tiene sus datos\n",
    "    nombre2 = nombre de su nuevo archivo, ahora en .hd5\n",
    "    \n",
    "    '''\n",
    "    general = [] #Lista que tendrá nuestros datos\n",
    "    with open(nombre1, 'r') as file: #Abrimos nuestro archivo para poder extraer los datos\n",
    "        for l in file:\n",
    "            datos = [] #Aca almacenaremos nuestros datos en listas para asi colocarlas en general\n",
    "            xin, yin, zin = l.split() \n",
    "            datos.append(float(xin))\n",
    "            datos.append(float(yin))\n",
    "            datos.append(float(zin))\n",
    "            general.append(datos) #Con cada uno de estos pasos iremos extrayendo los datos por columna\n",
    "    general = np.array(general) #Hacemos general un array para asi manejarlo más facil\n",
    "    f1 = h5py.File(nombre2, \"w\") #Creamos el archivo .hd5 con el nombre deseado\n",
    "    a,b = np.array(general).shape #La dimension de general, donde estan los datos\n",
    "    f1.create_dataset(\"Propiedad1\", (a,1), dtype='f', data=general[:,0])\n",
    "    f1.create_dataset(\"Propiedad2\", (a,1), dtype='f', data=general[:,1])\n",
    "    f1.create_dataset(\"Propiedad3\", (a,1), dtype='f', data=general[:,2])#Con cada uno de estos procesos creamos los datasets.\n",
    "#Destacar que cada dataset lo nombramos por su propiedad."
   ]
  },
  {
   "cell_type": "markdown",
   "metadata": {},
   "source": [
    "Veamos si nuestra función esta correcta y crea el archivo;"
   ]
  },
  {
   "cell_type": "code",
   "execution_count": 4,
   "metadata": {},
   "outputs": [],
   "source": [
    "hd5(\"simulacion.txt\", \"simulacion.hdf5\")"
   ]
  },
  {
   "cell_type": "markdown",
   "metadata": {},
   "source": [
    "Ahora entremos en nuestro nuevo archivo creado y veamos si efectivamente están los datos guardados."
   ]
  },
  {
   "cell_type": "code",
   "execution_count": 5,
   "metadata": {},
   "outputs": [
    {
     "data": {
      "text/plain": [
       "<KeysViewHDF5 ['Propiedad1', 'Propiedad2', 'Propiedad3']>"
      ]
     },
     "execution_count": 5,
     "metadata": {},
     "output_type": "execute_result"
    }
   ],
   "source": [
    "f1 = h5py.File('simulacion.hdf5', 'r')\n",
    "f1.keys()"
   ]
  },
  {
   "cell_type": "markdown",
   "metadata": {},
   "source": [
    "Se puede ver que dentro de nuestro archivo están las 3 propiedades de nuestros datos, en este caso \n",
    "cada columna. Ahora consigamos lo que tiene cada propiedad y veamos los datos que necesitamos."
   ]
  },
  {
   "cell_type": "code",
   "execution_count": 6,
   "metadata": {},
   "outputs": [],
   "source": [
    "p1 = f1.get('Propiedad1')\n",
    "p2 = f1.get('Propiedad2')\n",
    "p3 = f1.get('Propiedad3')"
   ]
  },
  {
   "cell_type": "code",
   "execution_count": 7,
   "metadata": {},
   "outputs": [
    {
     "data": {
      "text/plain": [
       "array([[0.00314159],\n",
       "       [0.00628318],\n",
       "       [0.00942477],\n",
       "       [0.01256636],\n",
       "       [0.01570795],\n",
       "       [0.01884954],\n",
       "       [0.02199113],\n",
       "       [0.02513272],\n",
       "       [0.02827431]], dtype=float32)"
      ]
     },
     "execution_count": 7,
     "metadata": {},
     "output_type": "execute_result"
    }
   ],
   "source": [
    "p1[:]"
   ]
  },
  {
   "cell_type": "code",
   "execution_count": 8,
   "metadata": {},
   "outputs": [
    {
     "data": {
      "text/plain": [
       "array([[255.76807],\n",
       "       [375.28183],\n",
       "       [424.6698 ],\n",
       "       [467.63257],\n",
       "       [482.09128],\n",
       "       [433.76678],\n",
       "       [429.90643],\n",
       "       [384.07428],\n",
       "       [346.48767]], dtype=float32)"
      ]
     },
     "execution_count": 8,
     "metadata": {},
     "output_type": "execute_result"
    }
   ],
   "source": [
    "p2[:]"
   ]
  },
  {
   "cell_type": "code",
   "execution_count": 9,
   "metadata": {},
   "outputs": [
    {
     "data": {
      "text/plain": [
       "array([[45.014004 ],\n",
       "       [29.477705 ],\n",
       "       [28.435244 ],\n",
       "       [25.762238 ],\n",
       "       [15.302616 ],\n",
       "       [14.50243  ],\n",
       "       [ 7.6895213],\n",
       "       [ 5.8806586],\n",
       "       [ 5.062041 ]], dtype=float32)"
      ]
     },
     "execution_count": 9,
     "metadata": {},
     "output_type": "execute_result"
    }
   ],
   "source": [
    "p3[:]"
   ]
  },
  {
   "cell_type": "markdown",
   "metadata": {},
   "source": [
    "Podemos notar que para cada dataset estan sus respectivos datos, por lo que podemos decir que la función \n",
    "esta correcta."
   ]
  },
  {
   "cell_type": "markdown",
   "metadata": {},
   "source": [
    "# Calificacion: 7.0"
   ]
  }
 ],
 "metadata": {
  "kernelspec": {
   "display_name": "Python 3",
   "language": "python",
   "name": "python3"
  },
  "language_info": {
   "codemirror_mode": {
    "name": "ipython",
    "version": 3
   },
   "file_extension": ".py",
   "mimetype": "text/x-python",
   "name": "python",
   "nbconvert_exporter": "python",
   "pygments_lexer": "ipython3",
   "version": "3.8.3"
  },
  "toc": {
   "base_numbering": 1,
   "nav_menu": {},
   "number_sections": true,
   "sideBar": true,
   "skip_h1_title": false,
   "title_cell": "Table of Contents",
   "title_sidebar": "Contents",
   "toc_cell": false,
   "toc_position": {},
   "toc_section_display": true,
   "toc_window_display": false
  }
 },
 "nbformat": 4,
 "nbformat_minor": 5
}
