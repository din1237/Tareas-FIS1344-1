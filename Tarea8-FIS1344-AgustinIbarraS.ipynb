{
 "cells": [
  {
   "cell_type": "markdown",
   "id": "eb65d527",
   "metadata": {},
   "source": [
    "## Tarea 8 - FIS1344: Agustin Ibarra Sepúlveda."
   ]
  },
  {
   "cell_type": "markdown",
   "id": "633a2971",
   "metadata": {},
   "source": [
    "A partir de la fórmula de tres puntos para la derivada en el extremo, asumiendo que esta tiene un error del tipo\n",
    "\n",
    "$$\n",
    "M = N_1(h) + K_1 h^2 + K_2 h^4 + ...\n",
    "$$\n",
    "\n",
    "use la extrapolación de Richardson para mejorar la aproximación. Escriba un código usando esta nueva fórmula y compárela con las fórmulas a tres y cinco puntos en los extremos introducidas en clase actuando sobre alguna función sencilla y comparando los errores de las tres."
   ]
  },
  {
   "cell_type": "markdown",
   "id": "ab62789d",
   "metadata": {},
   "source": [
    "-------------------------------------------------------------------------------------------------------------------------------"
   ]
  },
  {
   "cell_type": "markdown",
   "id": "d8a78877",
   "metadata": {},
   "source": [
    "## Desarrollo"
   ]
  },
  {
   "cell_type": "markdown",
   "id": "02ca2300",
   "metadata": {},
   "source": [
    "Comenzamos de: \n",
    "\n",
    "$$\n",
    "M = N_1(h) + K_1 h^2 + K_2 h^4 + ...\n",
    "$$\n",
    "\n",
    "Remplazando h por un un $ \\frac{h}{2} $, un error más pequeño.\n",
    "\n",
    "$$\n",
    "M = N_1(h/2) + \\frac{1}{4} K_1 h^2 + \\frac{1}{16} K_2 h^4 + ...\n",
    "$$\n",
    "\n",
    "Luego, de usar ambas ecuaciones llegaremos a lo siguiente;\n",
    "\n",
    "$$\n",
    "3M = 4N_1(h/2) - N_1(h) - \\frac{3}{4} K_2 h^4 + ...\n",
    "$$\n",
    "\n",
    "Obteniendo,\n",
    "\n",
    "$$\n",
    "N_2(h) = \\frac{4N_1(h/2) - N_1(h)}{3}\n",
    "$$\n",
    "\n",
    "De esta ya podemos encontrar un tipo de aproximacion que sera de la forma\n",
    "\n",
    "$$\n",
    "N_j(h) = N_{j - 1}(h/2) + \\frac{N_{j-1}(h/2) - N_{j-1}(h)}{4^{j-1} - 1}\n",
    "$$"
   ]
  },
  {
   "cell_type": "markdown",
   "id": "0ed99352",
   "metadata": {},
   "source": [
    "Primero sacaremos las funciones utilizadas y encontradas en clases, para realizar la comparación."
   ]
  },
  {
   "cell_type": "code",
   "execution_count": 96,
   "id": "505b3bb6",
   "metadata": {},
   "outputs": [],
   "source": [
    "import numpy as np\n",
    "import matplotlib.pyplot as plt\n",
    "\n",
    "def deriv3p_extremo(f, x, h):\n",
    "    return (-3*f(x) + 4*f(x + h) - f(x + 2*h))/(2*h)\n",
    "\n",
    "def deriv5p_extremo(f, x, h):\n",
    "    return (-25*f(x) + 48*f(x + h) - 36*f(x + 2*h) + 16*f(x + 3*h) - 3*f(x + 4*h))/(12*h)"
   ]
  },
  {
   "cell_type": "markdown",
   "id": "b11ac608",
   "metadata": {},
   "source": [
    "Escribimos la fórmula que encontramos usando la extrapolación de Richardson en la derivada de 3 puntos. Para esto haremos uso de los arrays, para ir rellenando cada valor que va saliendo al aumentar nuestro h a h/2. Luego usaremos el último resultado de esto para así sacar el valor numérico esperado de la derivada."
   ]
  },
  {
   "cell_type": "code",
   "execution_count": 129,
   "id": "07142274",
   "metadata": {},
   "outputs": [],
   "source": [
    "def richardson( f, x, n, h ):\n",
    "    '''\n",
    "    Función que encuentra la mejor aproximación de la derivada en un\n",
    "    punto, utilizando la extrapolación de Richardson.\n",
    "\n",
    "    f- Función que se le encontrará la derivada.\n",
    "\n",
    "    x- Valor donde queremos conocer la derivada.\n",
    "\n",
    "    n- Número de extrapolaciones que se harán.\n",
    "\n",
    "    h- Intervalo inicial\n",
    "    \n",
    "    '''\n",
    "    \n",
    "    N = np.array([[0]*(n + 1)]*(n + 1), float)\n",
    "    #Primer array de 0 para asi ir rellenando con los datos.\n",
    "    #Esto creara una \"Matriz\" M x M.\n",
    "    \n",
    "    for i in range(n + 1):\n",
    "        N[i,0] = (f(x + h) - f(x - h))/(2*h)\n",
    "        #Realizamos la derivada de 3 puntos.\n",
    "\n",
    "        exp4 = 1 \n",
    "        #Exponente del 4.\n",
    "        for j in range(1, i + 1):\n",
    "            exp4 = 4 * exp4\n",
    "            N[i,j] = N[i,j-1] + (N[i,j-1] - N[i-1,j-1])/(exp4 - 1)\n",
    "            #Formula encontrada anteriormente. \n",
    "        \n",
    "        h = 0.5 * h\n",
    "        #Hacemos aumentar el h.\n",
    "\n",
    "    return N[i,j]"
   ]
  },
  {
   "cell_type": "markdown",
   "id": "ca9b6e7b",
   "metadata": {},
   "source": [
    "Ahora escribiremos una función sencilla y su derivada, de tal manera que tengamos un resultado numérico sencillo que podamos comparar."
   ]
  },
  {
   "cell_type": "code",
   "execution_count": 117,
   "id": "67d346db",
   "metadata": {},
   "outputs": [],
   "source": [
    "def fun(x):\n",
    "    return x + np.cos(x)**2 + np.sin(x)*np.cos(x)\n",
    "def dfun(x):\n",
    "    return 1 + np.cos(x)**2 - 2*np.cos(x)*np.sin(x) - np.sin(x)**2"
   ]
  },
  {
   "cell_type": "code",
   "execution_count": 121,
   "id": "dbd319ec",
   "metadata": {},
   "outputs": [
    {
     "data": {
      "text/plain": [
       "Text(0.5, 1.0, 'Funcion f(x)')"
      ]
     },
     "execution_count": 121,
     "metadata": {},
     "output_type": "execute_result"
    },
    {
     "data": {
      "image/png": "[encoded data removed]",
      "text/plain": [
       "<Figure size 432x288 with 1 Axes>"
      ]
     },
     "metadata": {
      "needs_background": "light"
     },
     "output_type": "display_data"
    }
   ],
   "source": [
    "a = np.linspace(-8, 8, 1000)\n",
    "plt.plot(a, fun(a))\n",
    "plt.xlabel('x')\n",
    "plt.ylabel('f(x)')\n",
    "plt.title('Funcion f(x)')"
   ]
  },
  {
   "cell_type": "markdown",
   "id": "81cfd594",
   "metadata": {},
   "source": [
    "Ahora utilicemos nuestra función y comparemos el resultado que da, con el valor real la función evaluada en 0, que se utilizó."
   ]
  },
  {
   "cell_type": "code",
   "execution_count": 130,
   "id": "c3aedde5",
   "metadata": {
    "scrolled": false
   },
   "outputs": [
    {
     "data": {
      "text/plain": [
       "1.9999999873385657"
      ]
     },
     "execution_count": 130,
     "metadata": {},
     "output_type": "execute_result"
    }
   ],
   "source": [
    "richardson(fun, 0, 2, 0.2)"
   ]
  },
  {
   "cell_type": "code",
   "execution_count": 131,
   "id": "165b553a",
   "metadata": {},
   "outputs": [
    {
     "data": {
      "text/plain": [
       "2.0"
      ]
     },
     "execution_count": 131,
     "metadata": {},
     "output_type": "execute_result"
    }
   ],
   "source": [
    "dfun(0)"
   ]
  },
  {
   "cell_type": "code",
   "execution_count": 137,
   "id": "e42469ca",
   "metadata": {},
   "outputs": [
    {
     "data": {
      "text/plain": [
       "-1.2661434345417888e-08"
      ]
     },
     "execution_count": 137,
     "metadata": {},
     "output_type": "execute_result"
    }
   ],
   "source": [
    "(richardson(fun, 0, 2, 0.2) - dfun(0))"
   ]
  },
  {
   "cell_type": "markdown",
   "id": "46cb3d85",
   "metadata": {},
   "source": [
    "Como se puede da un valor extremadamente preciso, logrando a casi ser 0 en la resta del valor obtenido con el real. Veamos los otros métodos."
   ]
  },
  {
   "cell_type": "code",
   "execution_count": 100,
   "id": "04c97e98",
   "metadata": {},
   "outputs": [
    {
     "data": {
      "text/plain": [
       "0.03481818124931646"
      ]
     },
     "execution_count": 100,
     "metadata": {},
     "output_type": "execute_result"
    }
   ],
   "source": [
    "deriv3p_extremo(fun, 0, 0.2) - dfun(0)"
   ]
  },
  {
   "cell_type": "code",
   "execution_count": 102,
   "id": "cd32c044",
   "metadata": {},
   "outputs": [
    {
     "data": {
      "text/plain": [
       "-0.0008386377177775906"
      ]
     },
     "execution_count": 102,
     "metadata": {},
     "output_type": "execute_result"
    }
   ],
   "source": [
    "deriv5p_extremo(fun, 0, 0.2) - dfun(0)"
   ]
  },
  {
   "cell_type": "markdown",
   "id": "2170eac2",
   "metadata": {},
   "source": [
    "Se puede ver que los errores son pequeños, pero no tanto como el que nos da con la extrapolación de Richardson. Esto nos indica que el método, con el que vamos sacando y volviendo h mucho más pequeño, nos hace un código mucho más preciso dentro de cierto rango."
   ]
  }
 ],
 "metadata": {
  "kernelspec": {
   "display_name": "Python 3 (ipykernel)",
   "language": "python",
   "name": "python3"
  },
  "language_info": {
   "codemirror_mode": {
    "name": "ipython",
    "version": 3
   },
   "file_extension": ".py",
   "mimetype": "text/x-python",
   "name": "python",
   "nbconvert_exporter": "python",
   "pygments_lexer": "ipython3",
   "version": "3.9.7"
  }
 },
 "nbformat": 4,
 "nbformat_minor": 5
}
